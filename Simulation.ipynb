{
  "nbformat": 4,
  "nbformat_minor": 0,
  "metadata": {
    "colab": {
      "provenance": [],
      "authorship_tag": "ABX9TyPKJbU7YkVzBrz4JoxRe9Eq",
      "include_colab_link": true
    },
    "kernelspec": {
      "name": "python3",
      "display_name": "Python 3"
    },
    "language_info": {
      "name": "python"
    }
  },
  "cells": [
    {
      "cell_type": "markdown",
      "metadata": {
        "id": "view-in-github",
        "colab_type": "text"
      },
      "source": [
        "<a href=\"https://colab.research.google.com/github/Banafshehkh/Banafshehkh/blob/main/Simulation.ipynb\" target=\"_parent\"><img src=\"https://colab.research.google.com/assets/colab-badge.svg\" alt=\"Open In Colab\"/></a>"
      ]
    },
    {
      "cell_type": "code",
      "execution_count": null,
      "metadata": {
        "id": "PPyI8vbVNB4D"
      },
      "outputs": [],
      "source": [
        "import numpy as np\n",
        "from scipy.integrate import solve_ivp\n",
        "import os\n",
        "from scipy import sparse, linalg\n"
      ]
    },
    {
      "cell_type": "code",
      "source": [
        "from google.colab import drive\n",
        "drive.mount('/content/drive')"
      ],
      "metadata": {
        "colab": {
          "base_uri": "https://localhost:8080/"
        },
        "id": "_UR8-3WAN2DS",
        "outputId": "4ff14359-4046-4e09-d0d2-82909ac4d664"
      },
      "execution_count": null,
      "outputs": [
        {
          "output_type": "stream",
          "name": "stdout",
          "text": [
            "Drive already mounted at /content/drive; to attempt to forcibly remount, call drive.mount(\"/content/drive\", force_remount=True).\n"
          ]
        }
      ]
    },
    {
      "cell_type": "code",
      "source": [
        "# Number of Neurons\n",
        "N = 279\n",
        "\n",
        "# Cell membrane conductance (pS)\n",
        "Gc = 0.1\n",
        "\n",
        "# Cell Membrane Capacitance\n",
        "C = 0.015\n",
        "\n",
        "# Gap Junctions (Electrical, 279*279)\n",
        "ggap = 1.0\n",
        "Gg_Static = np.load('/content/drive/MyDrive/simulation_data/Gg.npy')\n",
        "\n",
        "# Synaptic connections (Chemical, 279*279)\n",
        "gsyn = 1.0\n",
        "Gs_Static = np.load('/content/drive/MyDrive/simulation_data/Gs.npy')\n",
        "\n",
        "# Leakage potential (mV)\n",
        "Ec = -35.0\n",
        "\n",
        "# Directionality (279*1)\n",
        "E = np.load('/content/drive/MyDrive/simulation_data/emask.npy')\n",
        "E = -48.0 * E\n",
        "EMat = np.tile(np.reshape(E, N), (N, 1))\n",
        "\n",
        "# Synaptic Activity Parameters\n",
        "ar = 1.0 / 1.5  # Synaptic activity's rise time\n",
        "ad = 5.0 / 1.5  # Synaptic activity's decay time\n",
        "B = 0.125  # Width of the sigmoid (mv^-1)\n",
        "\n",
        "# Input Mask/Continuous Transition\n",
        "transit_Mat = np.zeros((2, N))\n",
        "t_Tracker = 0\n",
        "Iext = 100000\n",
        "\n",
        "rate = 0.025\n",
        "offset = 0.15\n"
      ],
      "metadata": {
        "id": "5ZT6m9eCNJUp"
      },
      "execution_count": null,
      "outputs": []
    },
    {
      "cell_type": "code",
      "source": [
        "Gg_Static"
      ],
      "metadata": {
        "colab": {
          "base_uri": "https://localhost:8080/"
        },
        "id": "P7m9jY-4Y3NO",
        "outputId": "2ff527ae-76b4-47a3-f266-6199aead1622"
      },
      "execution_count": null,
      "outputs": [
        {
          "output_type": "execute_result",
          "data": {
            "text/plain": [
              "array([[0., 0., 0., ..., 0., 0., 0.],\n",
              "       [0., 0., 0., ..., 0., 0., 0.],\n",
              "       [0., 0., 0., ..., 0., 0., 0.],\n",
              "       ...,\n",
              "       [0., 0., 0., ..., 0., 0., 0.],\n",
              "       [0., 0., 0., ..., 0., 0., 0.],\n",
              "       [0., 0., 0., ..., 0., 0., 0.]])"
            ]
          },
          "metadata": {},
          "execution_count": 77
        }
      ]
    },
    {
      "cell_type": "code",
      "source": [
        "Gs_Static"
      ],
      "metadata": {
        "colab": {
          "base_uri": "https://localhost:8080/"
        },
        "id": "DAPh0F_aY4tP",
        "outputId": "1d90fd00-c7f6-49f1-f1d5-89b8df88b435"
      },
      "execution_count": null,
      "outputs": [
        {
          "output_type": "execute_result",
          "data": {
            "text/plain": [
              "array([[0., 0., 0., ..., 0., 0., 0.],\n",
              "       [0., 0., 0., ..., 0., 0., 0.],\n",
              "       [0., 1., 0., ..., 0., 0., 0.],\n",
              "       ...,\n",
              "       [0., 0., 0., ..., 0., 0., 0.],\n",
              "       [0., 0., 0., ..., 0., 0., 0.],\n",
              "       [0., 0., 0., ..., 0., 0., 0.]])"
            ]
          },
          "metadata": {},
          "execution_count": 78
        }
      ]
    },
    {
      "cell_type": "code",
      "source": [
        "E"
      ],
      "metadata": {
        "colab": {
          "base_uri": "https://localhost:8080/"
        },
        "id": "6jkcgC8aZFJp",
        "outputId": "6ccbb140-1c9c-430c-b658-8491684e2352"
      },
      "execution_count": null,
      "outputs": [
        {
          "output_type": "execute_result",
          "data": {
            "text/plain": [
              "array([[ -0.],\n",
              "       [ -0.],\n",
              "       [ -0.],\n",
              "       [ -0.],\n",
              "       [ -0.],\n",
              "       [ -0.],\n",
              "       [ -0.],\n",
              "       [ -0.],\n",
              "       [ -0.],\n",
              "       [ -0.],\n",
              "       [ -0.],\n",
              "       [ -0.],\n",
              "       [ -0.],\n",
              "       [ -0.],\n",
              "       [ -0.],\n",
              "       [ -0.],\n",
              "       [ -0.],\n",
              "       [ -0.],\n",
              "       [ -0.],\n",
              "       [ -0.],\n",
              "       [ -0.],\n",
              "       [ -0.],\n",
              "       [ -0.],\n",
              "       [-48.],\n",
              "       [ -0.],\n",
              "       [ -0.],\n",
              "       [ -0.],\n",
              "       [ -0.],\n",
              "       [-48.],\n",
              "       [ -0.],\n",
              "       [ -0.],\n",
              "       [ -0.],\n",
              "       [ -0.],\n",
              "       [ -0.],\n",
              "       [-48.],\n",
              "       [ -0.],\n",
              "       [ -0.],\n",
              "       [ -0.],\n",
              "       [-48.],\n",
              "       [ -0.],\n",
              "       [ -0.],\n",
              "       [ -0.],\n",
              "       [ -0.],\n",
              "       [ -0.],\n",
              "       [ -0.],\n",
              "       [ -0.],\n",
              "       [ -0.],\n",
              "       [ -0.],\n",
              "       [ -0.],\n",
              "       [ -0.],\n",
              "       [ -0.],\n",
              "       [ -0.],\n",
              "       [ -0.],\n",
              "       [ -0.],\n",
              "       [ -0.],\n",
              "       [ -0.],\n",
              "       [ -0.],\n",
              "       [ -0.],\n",
              "       [ -0.],\n",
              "       [ -0.],\n",
              "       [ -0.],\n",
              "       [ -0.],\n",
              "       [ -0.],\n",
              "       [ -0.],\n",
              "       [ -0.],\n",
              "       [ -0.],\n",
              "       [ -0.],\n",
              "       [ -0.],\n",
              "       [ -0.],\n",
              "       [ -0.],\n",
              "       [ -0.],\n",
              "       [ -0.],\n",
              "       [ -0.],\n",
              "       [ -0.],\n",
              "       [ -0.],\n",
              "       [ -0.],\n",
              "       [ -0.],\n",
              "       [ -0.],\n",
              "       [ -0.],\n",
              "       [ -0.],\n",
              "       [ -0.],\n",
              "       [ -0.],\n",
              "       [ -0.],\n",
              "       [ -0.],\n",
              "       [ -0.],\n",
              "       [ -0.],\n",
              "       [ -0.],\n",
              "       [ -0.],\n",
              "       [ -0.],\n",
              "       [ -0.],\n",
              "       [ -0.],\n",
              "       [ -0.],\n",
              "       [ -0.],\n",
              "       [ -0.],\n",
              "       [ -0.],\n",
              "       [ -0.],\n",
              "       [ -0.],\n",
              "       [ -0.],\n",
              "       [ -0.],\n",
              "       [ -0.],\n",
              "       [ -0.],\n",
              "       [ -0.],\n",
              "       [ -0.],\n",
              "       [ -0.],\n",
              "       [ -0.],\n",
              "       [ -0.],\n",
              "       [ -0.],\n",
              "       [ -0.],\n",
              "       [ -0.],\n",
              "       [ -0.],\n",
              "       [ -0.],\n",
              "       [ -0.],\n",
              "       [ -0.],\n",
              "       [ -0.],\n",
              "       [ -0.],\n",
              "       [ -0.],\n",
              "       [ -0.],\n",
              "       [ -0.],\n",
              "       [ -0.],\n",
              "       [ -0.],\n",
              "       [ -0.],\n",
              "       [ -0.],\n",
              "       [ -0.],\n",
              "       [ -0.],\n",
              "       [-48.],\n",
              "       [ -0.],\n",
              "       [ -0.],\n",
              "       [ -0.],\n",
              "       [ -0.],\n",
              "       [ -0.],\n",
              "       [ -0.],\n",
              "       [ -0.],\n",
              "       [ -0.],\n",
              "       [ -0.],\n",
              "       [ -0.],\n",
              "       [ -0.],\n",
              "       [-48.],\n",
              "       [ -0.],\n",
              "       [ -0.],\n",
              "       [ -0.],\n",
              "       [ -0.],\n",
              "       [ -0.],\n",
              "       [ -0.],\n",
              "       [ -0.],\n",
              "       [ -0.],\n",
              "       [ -0.],\n",
              "       [ -0.],\n",
              "       [ -0.],\n",
              "       [ -0.],\n",
              "       [ -0.],\n",
              "       [ -0.],\n",
              "       [ -0.],\n",
              "       [ -0.],\n",
              "       [ -0.],\n",
              "       [ -0.],\n",
              "       [ -0.],\n",
              "       [ -0.],\n",
              "       [ -0.],\n",
              "       [ -0.],\n",
              "       [ -0.],\n",
              "       [ -0.],\n",
              "       [ -0.],\n",
              "       [ -0.],\n",
              "       [-48.],\n",
              "       [ -0.],\n",
              "       [ -0.],\n",
              "       [-48.],\n",
              "       [ -0.],\n",
              "       [-48.],\n",
              "       [ -0.],\n",
              "       [ -0.],\n",
              "       [ -0.],\n",
              "       [ -0.],\n",
              "       [ -0.],\n",
              "       [-48.],\n",
              "       [ -0.],\n",
              "       [ -0.],\n",
              "       [ -0.],\n",
              "       [ -0.],\n",
              "       [ -0.],\n",
              "       [ -0.],\n",
              "       [-48.],\n",
              "       [ -0.],\n",
              "       [-48.],\n",
              "       [ -0.],\n",
              "       [ -0.],\n",
              "       [ -0.],\n",
              "       [ -0.],\n",
              "       [ -0.],\n",
              "       [ -0.],\n",
              "       [-48.],\n",
              "       [ -0.],\n",
              "       [ -0.],\n",
              "       [ -0.],\n",
              "       [ -0.],\n",
              "       [-48.],\n",
              "       [ -0.],\n",
              "       [ -0.],\n",
              "       [ -0.],\n",
              "       [ -0.],\n",
              "       [-48.],\n",
              "       [ -0.],\n",
              "       [ -0.],\n",
              "       [ -0.],\n",
              "       [ -0.],\n",
              "       [-48.],\n",
              "       [ -0.],\n",
              "       [ -0.],\n",
              "       [ -0.],\n",
              "       [ -0.],\n",
              "       [ -0.],\n",
              "       [ -0.],\n",
              "       [ -0.],\n",
              "       [ -0.],\n",
              "       [-48.],\n",
              "       [-48.],\n",
              "       [ -0.],\n",
              "       [ -0.],\n",
              "       [ -0.],\n",
              "       [ -0.],\n",
              "       [ -0.],\n",
              "       [-48.],\n",
              "       [ -0.],\n",
              "       [ -0.],\n",
              "       [ -0.],\n",
              "       [ -0.],\n",
              "       [ -0.],\n",
              "       [ -0.],\n",
              "       [ -0.],\n",
              "       [ -0.],\n",
              "       [ -0.],\n",
              "       [-48.],\n",
              "       [-48.],\n",
              "       [ -0.],\n",
              "       [ -0.],\n",
              "       [ -0.],\n",
              "       [ -0.],\n",
              "       [ -0.],\n",
              "       [-48.],\n",
              "       [ -0.],\n",
              "       [ -0.],\n",
              "       [-48.],\n",
              "       [ -0.],\n",
              "       [ -0.],\n",
              "       [ -0.],\n",
              "       [-48.],\n",
              "       [ -0.],\n",
              "       [ -0.],\n",
              "       [ -0.],\n",
              "       [ -0.],\n",
              "       [-48.],\n",
              "       [ -0.],\n",
              "       [-48.],\n",
              "       [ -0.],\n",
              "       [ -0.],\n",
              "       [ -0.],\n",
              "       [ -0.],\n",
              "       [ -0.],\n",
              "       [ -0.],\n",
              "       [ -0.],\n",
              "       [ -0.],\n",
              "       [ -0.],\n",
              "       [ -0.],\n",
              "       [ -0.],\n",
              "       [ -0.],\n",
              "       [ -0.],\n",
              "       [ -0.],\n",
              "       [ -0.],\n",
              "       [ -0.],\n",
              "       [ -0.],\n",
              "       [ -0.],\n",
              "       [ -0.],\n",
              "       [ -0.],\n",
              "       [ -0.],\n",
              "       [ -0.],\n",
              "       [ -0.],\n",
              "       [ -0.],\n",
              "       [ -0.],\n",
              "       [ -0.]])"
            ]
          },
          "metadata": {},
          "execution_count": 79
        }
      ]
    },
    {
      "cell_type": "code",
      "source": [
        "# Connectome Arrays\n",
        "Gg_Dynamic = Gg_Static.copy()\n",
        "Gs_Dynamic = Gs_Static.copy()\n",
        "\n",
        "# Data matrix stack size\n",
        "stack_Size = 5\n",
        "init_data_Mat = np.zeros((stack_Size + 50, N))\n",
        "data_Mat = np.zeros((stack_Size, N))"
      ],
      "metadata": {
        "id": "1UEoN-jQNkB1"
      },
      "execution_count": null,
      "outputs": []
    },
    {
      "cell_type": "code",
      "source": [
        "# Mask transition\n",
        "def transit_Mask(input_Array):\n",
        "    global t_Switch, oldMask, newMask, transit_End, Vth_Static, t_Tracker\n",
        "\n",
        "    transit_Mat[0, :] = transit_Mat[1, :]\n",
        "\n",
        "    t_Switch = t_Tracker\n",
        "\n",
        "    transit_Mat[1, :] = input_Array\n",
        "\n",
        "    oldMask = transit_Mat[0, :]\n",
        "    newMask = transit_Mat[1, :]\n",
        "\n",
        "    Vth_Static = EffVth_rhs(Iext, newMask)\n",
        "    transit_End = t_Tracker + 0.3\n",
        "\n",
        "    print(oldMask, newMask, t_Switch, transit_End)\n"
      ],
      "metadata": {
        "id": "uFlqQm5eOUR8"
      },
      "execution_count": null,
      "outputs": []
    },
    {
      "cell_type": "code",
      "source": [
        "def update_Mask(old, new, t, tSwitch):\n",
        "    return np.multiply(old, 0.5 - 0.5 * np.tanh((t - tSwitch) / rate)) + np.multiply(new, 0.5 + 0.5 * np.tanh((t - tSwitch) / rate))"
      ],
      "metadata": {
        "id": "TOZLPV7BOXT5"
      },
      "execution_count": null,
      "outputs": []
    },
    {
      "cell_type": "code",
      "source": [
        "# Ablation\n",
        "def modify_Connectome(ablation_Array):\n",
        "    global Vth_Static, Gg_Dynamic, Gs_Dynamic\n",
        "\n",
        "    apply_Col = np.tile(ablation_Array, (N, 1))\n",
        "    apply_Row = np.transpose(apply_Col)\n",
        "\n",
        "    apply_Mat = np.multiply(apply_Col, apply_Row)\n",
        "\n",
        "    Gg_Dynamic = np.multiply(Gg_Static, apply_Mat)\n",
        "    Gs_Dynamic = np.multiply(Gs_Static, apply_Mat)\n",
        "\n",
        "    try:\n",
        "        newMask\n",
        "    except NameError:\n",
        "        EffVth(Gg_Dynamic, Gs_Dynamic)\n",
        "        if np.sum(ablation_Array) != N:\n",
        "            print(\"Neurons \" + str(np.where(ablation_Array == False)[0]) + \" are ablated\")\n",
        "        else:\n",
        "            print(\"All Neurons healthy\")\n",
        "    print(\"EffVth Recalculated\")\n",
        "    \n",
        "    print(\"Vth Recalculated\")\n",
        "\n"
      ],
      "metadata": {
        "id": "1hwzh0OFObAz"
      },
      "execution_count": null,
      "outputs": []
    },
    {
      "cell_type": "code",
      "source": [
        "\"\"\" Efficient V-threshold computation \"\"\"\n",
        "def EffVth(Gg, Gs):\n",
        "\n",
        "  Gcmat = np.multiply(Gc, np.eye(N))\n",
        "  EcVec = np.multiply(Ec, np.ones((N, 1)))\n",
        "  # Add regularization term\n",
        "  # regularization_term = 1e-6\n",
        "  # M = M + regularization_term * np.eye(N)\n",
        "  # # Print the matrix M to check its properties\n",
        "  # print(\"Matrix M:\")\n",
        "  # print(M)\n",
        "\n",
        "  M1 = -Gcmat\n",
        "  b1 = np.multiply(Gc, EcVec)\n",
        "\n",
        "  Ggap = np.multiply(ggap, Gg)\n",
        "  Ggapdiag = np.subtract(Ggap, np.diag(np.diag(Ggap)))\n",
        "  Ggapsum = Ggapdiag.sum(axis=1)\n",
        "  Ggapsummat = np.diag(Ggapsum)\n",
        "  M2 = -np.subtract(Ggapsummat, Ggapdiag)\n",
        "\n",
        "  Gs_ij = np.multiply(gsyn, Gs)\n",
        "  s_eq = round((ar / (ar + 2 * ad)), 4)\n",
        "  sjmat = np.multiply(s_eq, np.ones((N, N)))\n",
        "  S_eq = np.multiply(s_eq, np.ones((N, 1)))\n",
        "  Gsyn = np.multiply(sjmat, Gs_ij)\n",
        "  Gsyndiag = np.subtract(Gsyn, np.diag(np.diag(Gsyn)))\n",
        "  Gsynsum = Gsyndiag.sum(axis=1)\n",
        "  M3 = -np.diag(Gsynsum)\n",
        "\n",
        "  b3 = np.dot(Gs_ij, np.multiply(s_eq, E))\n",
        "\n",
        "  M = M1 + M2 + M3\n",
        "\n",
        "  global LL, UU, bb\n",
        "\n",
        "  (P, LL, UU) = linalg.lu(M)\n",
        "  bbb = -b1 - b3\n",
        "  bb = np.reshape(bbb, N)\n",
        "\n",
        "\n"
      ],
      "metadata": {
        "id": "jp6XuwZXOyRx"
      },
      "execution_count": null,
      "outputs": []
    },
    {
      "cell_type": "code",
      "source": [
        "def EffVth_rhs(Iext, InMask):\n",
        "  InputMask = np.multiply(Iext, InMask)\n",
        "  b = np.subtract(bb, InputMask)\n",
        "  Vth = np.linalg.solve(UU, np.linalg.solve(LL, b))\n",
        "\n",
        "  return Vth\n"
      ],
      "metadata": {
        "id": "6kOFLJy1O96u"
      },
      "execution_count": null,
      "outputs": []
    },
    {
      "cell_type": "code",
      "source": [
        "def voltage_filter(v_vec, vmax, scaler):\n",
        "  filtered = vmax * np.tanh(scaler * np.divide(v_vec, vmax))\n",
        "  return filtered"
      ],
      "metadata": {
        "id": "bSsbUDfAQFYq"
      },
      "execution_count": null,
      "outputs": []
    },
    {
      "cell_type": "code",
      "source": [
        "def membrane_voltageRHS(t, y):\n",
        "    \"\"\" Split the incoming values \"\"\"\n",
        "    Vvec, SVec = np.split(y, 2)\n",
        "\n",
        "    \"\"\" Gc(Vi - Ec) \"\"\"\n",
        "    VsubEc = np.multiply(Gc, (Vvec - Ec))\n",
        "\n",
        "    \"\"\" Gg(Vi - Vj) Computation \"\"\"\n",
        "    Vrep = np.tile(Vvec, (N, 1))\n",
        "    GapCon = np.multiply(Gg_Dynamic, np.subtract(np.transpose(Vrep), Vrep)).sum(axis=1)\n",
        "\n",
        "    \"\"\" Gs*S*(Vi - Ej) Computation \"\"\"\n",
        "    VsubEj = np.subtract(np.transpose(Vrep), EMat)\n",
        "    SynapCon = np.multiply(np.multiply(Gs_Dynamic, np.tile(SVec, (N, 1))), VsubEj).sum(axis=1)\n",
        "\n",
        "    global InMask, Vth\n",
        "\n",
        "    InMask = update_Mask(oldMask, newMask, t, t_Tracker + offset)\n",
        "    Vth = EffVth_rhs(Iext, InMask)\n",
        "\n",
        "    \"\"\" ar*(1-Si)*Sigmoid Computation \"\"\"\n",
        "    SynRise = np.multiply(np.multiply(ar, (np.subtract(1.0, SVec))),\n",
        "                          np.reciprocal(1.0 + np.exp(-B*(np.subtract(Vvec, Vth)))))\n",
        "\n",
        "    SynDrop = np.multiply(ad, SVec)\n",
        "\n",
        "    \"\"\" Input Mask \"\"\"\n",
        "    Input = np.multiply(Iext, InMask)\n",
        "\n",
        "    \"\"\" dV and dS and merge them back to dydt \"\"\"\n",
        "    dV = (-(VsubEc + GapCon + SynapCon) + Input)/C\n",
        "    dS = np.subtract(SynRise, SynDrop)\n",
        "\n",
        "    return np.concatenate((dV, dS))\n"
      ],
      "metadata": {
        "id": "HbdrMRiqPLUO"
      },
      "execution_count": null,
      "outputs": []
    },
    {
      "cell_type": "code",
      "source": [
        "# import numpy as np\n",
        "# from scipy.integrate import solve_ivp\n",
        "\n",
        "# # Define the initial conditions\n",
        "# V0 = np.zeros(N)  # Initial membrane voltage\n",
        "# S0 = np.zeros(N)  # Initial synaptic activity\n",
        "# y0 = np.concatenate((V0, S0))\n",
        "\n",
        "# # Define the time points for the simulation\n",
        "# t_start = 0  # Start time\n",
        "# t_end = 10  # End time\n",
        "# t_step = 0.01  # Time step\n",
        "# t_points = np.arange(t_start, t_end, t_step)\n",
        "\n",
        "# # Define global variables\n",
        "# oldMask = np.zeros(N)\n",
        "# newMask = np.zeros(N)\n",
        "# bb = np.zeros(N)  # Define bb here\n",
        "# UU = np.zeros((N, N))  # Define UU here\n",
        "# LL = np.zeros((N, N))  # Define LL here\n",
        "\n",
        "# # Call the solve_ivp function to run the simulation\n",
        "# solution = solve_ivp(membrane_voltageRHS, (t_start, t_end), y0, t_eval=t_points, method='RK45')\n",
        "\n",
        "# # Extract the results\n",
        "# t = solution.t  # Time points\n",
        "# V = solution.y[:N]  # Membrane voltage\n",
        "# S = solution.y[N:]  # Synaptic activity\n",
        "\n",
        "# # Print the results or perform any desired analysis\n",
        "# print(\"Simulation results:\")\n",
        "# print(\"Time:\", t)\n",
        "# print(\"Membrane voltage:\", V)\n",
        "# print(\"Synaptic activity:\", S)\n"
      ],
      "metadata": {
        "id": "q9QFXIO0PjKR"
      },
      "execution_count": null,
      "outputs": []
    },
    {
      "cell_type": "code",
      "source": [
        "# Load the necessary data and configurations\n",
        "EffVth(Gg_Static, Gs_Static)\n",
        "\n",
        "# Run the network\n",
        "t_Delta = 0.001\n",
        "atol = 1e-6\n",
        "run_Network(t_Delta, atol)"
      ],
      "metadata": {
        "colab": {
          "base_uri": "https://localhost:8080/",
          "height": 203
        },
        "id": "upU_dGVLclt-",
        "outputId": "07ad0881-b2bc-43e2-c9ec-032d40fff130"
      },
      "execution_count": null,
      "outputs": [
        {
          "output_type": "error",
          "ename": "NameError",
          "evalue": "ignored",
          "traceback": [
            "\u001b[0;31m---------------------------------------------------------------------------\u001b[0m",
            "\u001b[0;31mNameError\u001b[0m                                 Traceback (most recent call last)",
            "\u001b[0;32m<ipython-input-89-2dc21b6f1098>\u001b[0m in \u001b[0;36m<cell line: 7>\u001b[0;34m()\u001b[0m\n\u001b[1;32m      5\u001b[0m \u001b[0mt_Delta\u001b[0m \u001b[0;34m=\u001b[0m \u001b[0;36m0.001\u001b[0m\u001b[0;34m\u001b[0m\u001b[0;34m\u001b[0m\u001b[0m\n\u001b[1;32m      6\u001b[0m \u001b[0matol\u001b[0m \u001b[0;34m=\u001b[0m \u001b[0;36m1e-6\u001b[0m\u001b[0;34m\u001b[0m\u001b[0;34m\u001b[0m\u001b[0m\n\u001b[0;32m----> 7\u001b[0;31m \u001b[0mrun_Network\u001b[0m\u001b[0;34m(\u001b[0m\u001b[0mt_Delta\u001b[0m\u001b[0;34m,\u001b[0m \u001b[0matol\u001b[0m\u001b[0;34m)\u001b[0m\u001b[0;34m\u001b[0m\u001b[0;34m\u001b[0m\u001b[0m\n\u001b[0m",
            "\u001b[0;31mNameError\u001b[0m: name 'run_Network' is not defined"
          ]
        }
      ]
    },
    {
      "cell_type": "code",
      "source": [],
      "metadata": {
        "id": "cYnwJLG5bRHx"
      },
      "execution_count": null,
      "outputs": []
    }
  ]
}